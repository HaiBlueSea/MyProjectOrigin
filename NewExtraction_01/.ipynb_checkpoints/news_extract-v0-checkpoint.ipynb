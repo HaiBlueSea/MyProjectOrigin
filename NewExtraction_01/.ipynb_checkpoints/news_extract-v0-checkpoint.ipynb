{
 "cells": [
  {
   "cell_type": "markdown",
   "metadata": {
    "heading_collapsed": true
   },
   "source": [
    "## 任务要求：提取新闻中人物观点"
   ]
  },
  {
   "cell_type": "markdown",
   "metadata": {},
   "source": [
    "## 获取数据"
   ]
  },
  {
   "cell_type": "markdown",
   "metadata": {},
   "source": [
    "### 利用sqlalchemy来访问数据库数据"
   ]
  },
  {
   "cell_type": "code",
   "execution_count": 50,
   "metadata": {},
   "outputs": [],
   "source": [
    "from sqlalchemy import Column, String, create_engine\n",
    "from sqlalchemy.orm import sessionmaker\n",
    "from sqlalchemy.ext.declarative import declarative_base\n",
    "from sqlalchemy.sql import select"
   ]
  },
  {
   "cell_type": "markdown",
   "metadata": {},
   "source": [
    "- 由于MySQL服务器以独立的进程运行，并通过网络对外服务，所以，需要支持Python的MySQL驱动来连接到MySQL服务器。\n",
    "- 目前，有两个MySQL驱动：\n",
    "  1. mysql-connector-python：是MySQL官方的纯Python驱动\n",
    "  2. MySQL-python：是封装了MySQL C驱动的Python驱动"
   ]
  },
  {
   "cell_type": "code",
   "execution_count": 14,
   "metadata": {},
   "outputs": [],
   "source": [
    "passward = '#####'\n",
    "host = '#####'\n",
    "user = 'root'\n",
    "post = '3306'\n",
    "database = 'stu_db'\n",
    "engine= create_engine(\"mysql+mysqlconnector://{}:{}@{}:{}/{}\".format(user,passward,host,post,database))"
   ]
  },
  {
   "cell_type": "markdown",
   "metadata": {},
   "source": [
    "数据库查询语句：\n",
    "\n",
    "- show tables;   -- 查看当前数据库中所有表\n",
    "- show create table MyClass; --查看创建时候表语句\n",
    "- desc xxxxx;  --查看xxxxx表结构\n",
    "\n",
    "推荐逐条查询：\n",
    "ids =  XXXX.execute(\"select id from XXXX\"); \n",
    "for i in ids:\n",
    "    obj = XXXX.get(id)\n"
   ]
  },
  {
   "cell_type": "code",
   "execution_count": 55,
   "metadata": {},
   "outputs": [],
   "source": [
    "connection = engine.connect()\n",
    "#result = connection.execute(\"select author, content from news_chinese\")"
   ]
  },
  {
   "cell_type": "code",
   "execution_count": 66,
   "metadata": {},
   "outputs": [],
   "source": [
    "id_list = connection.execute(\"select id from news_chinese\")\n",
    "id_list = id_list.fetchall()"
   ]
  },
  {
   "cell_type": "code",
   "execution_count": 68,
   "metadata": {},
   "outputs": [],
   "source": [
    "i=0\n",
    "for _id in id_list:\n",
    "    i += 1 \n",
    "    if i>10: break\n",
    "    text = list(connection.execute(\"select content from news_chinese where id={}\".format(_id[0])))\n",
    "    #print(text[0][0])"
   ]
  },
  {
   "cell_type": "markdown",
   "metadata": {},
   "source": [
    "## 获取数据中所有和说相关的单词"
   ]
  },
  {
   "cell_type": "markdown",
   "metadata": {},
   "source": [
    "### 建立Word2Vec模型"
   ]
  },
  {
   "cell_type": "markdown",
   "metadata": {},
   "source": [
    "Word2Vec模型用于来获取和说相关的所有单词\n",
    "\n",
    "关于Word2Vec模型应该使用什么语料库来建立？？先试验以下两个语料库。不对停用词处理，因为和说相关的词有可能在停用词里面，或者对现有停用词库进行处理，把说相关的去除掉\n",
    "- 维基百科语料库\n",
    "- THUCNews新闻"
   ]
  },
  {
   "cell_type": "markdown",
   "metadata": {
    "heading_collapsed": true
   },
   "source": [
    "#### Wiki百科数据处理"
   ]
  },
  {
   "cell_type": "code",
   "execution_count": 4,
   "metadata": {
    "hidden": true
   },
   "outputs": [],
   "source": [
    "train_data_path = \"your_data_path\"\n",
    "stop_word_path = 'stopwords.txt'"
   ]
  },
  {
   "cell_type": "code",
   "execution_count": 1,
   "metadata": {
    "hidden": true
   },
   "outputs": [],
   "source": [
    "import os\n",
    "import re\n",
    "import jieba\n",
    "import multiprocessing as mp"
   ]
  },
  {
   "cell_type": "code",
   "execution_count": 2,
   "metadata": {
    "hidden": true
   },
   "outputs": [],
   "source": [
    "#file_list = os.listdir(train_data_path)"
   ]
  },
  {
   "cell_type": "code",
   "execution_count": 3,
   "metadata": {
    "code_folding": [
     8,
     25
    ],
    "hidden": true
   },
   "outputs": [],
   "source": [
    "def get_stop_word(stop_word_path):   \n",
    "    stop_word_list = []\n",
    "    with open(stop_word_path) as f:\n",
    "        #330后包括了一些词的停用词，故不用\n",
    "        for i in range(350):\n",
    "            stop_word_list.append(f.readline().strip('\\n'))\n",
    "    return stop_word_list\n",
    "\n",
    "def cut_process(input_file,output_file,stop_word_path):\n",
    "    output = open(output_file, 'w', encoding='utf-8')\n",
    "    ff = open(input_file,encoding='utf-8')\n",
    "    content_line = ff.readline() \n",
    "    stopwords = get_stop_word(stop_word_path)\n",
    "    article_contents = ''\n",
    "    while content_line != '':\n",
    "        if content_line.startswith('<doc id'):\n",
    "            #print(content_line)\n",
    "            article_contents = ''\n",
    "            content_line = ff.readline()\n",
    "            content_line = ff.readline()\n",
    "\n",
    "        if content_line.startswith('</doc>'):\n",
    "            words = jieba.cut(article_contents,cut_all=False)\n",
    "            content = ''\n",
    "            for word in words:\n",
    "                if word not in stopwords:\n",
    "                    content += word + ' '\n",
    "            output.write(content+\"\\n\") #每篇文章内容用换行符分隔          \n",
    "        article_contents += content_line.strip('\\n')  \n",
    "        content_line = ff.readline() \n",
    "    ff.close()\n",
    "    output.close()\n",
    "#多进程并行处理，加快速度 \n",
    "def multi_deal_file(inputfile, outputfile):\n",
    "    file_list = os.listdir(inputfile)\n",
    "    pool = mp.Pool()\n",
    "    arg_list = []\n",
    "    for file in file_list:\n",
    "        if file.endswith('new'):\n",
    "            arg_list.append((os.path.join(inputfile, file),\\\n",
    "                            os.path.join(outputfile, file),'stopwords.txt'))\n",
    "\n",
    "    for arg in arg_list:\n",
    "        print(arg)\n",
    "        pool.apply_async(cut_process, args=arg)\n",
    "\n",
    "    pool.close()\n",
    "    pool.join()"
   ]
  },
  {
   "cell_type": "code",
   "execution_count": 14,
   "metadata": {
    "hidden": true
   },
   "outputs": [],
   "source": [
    "inputfile = r'E:\\MYGIT\\Word2Vec\\wikiextractor-master\\zhwiki\\AA\\new'\n",
    "outputfile = r'E:\\MYGIT\\Word2Vec\\wikiextractor-master\\zhwiki\\AA\\new_split'\n",
    "#multi_deal_file(inputfile,outputfile)"
   ]
  },
  {
   "cell_type": "code",
   "execution_count": null,
   "metadata": {
    "hidden": true
   },
   "outputs": [],
   "source": [
    "multi_deal_file(inputfile,outputfile)"
   ]
  },
  {
   "cell_type": "code",
   "execution_count": 15,
   "metadata": {
    "hidden": true
   },
   "outputs": [],
   "source": [
    "def merge_file(inputpath):\n",
    "    file_list = os.listdir(inputpath)\n",
    "    with open(os.path.join(inputpath,'new_result'), 'a',encoding='utf-8') as output:\n",
    "        for file in file_list:\n",
    "            print(\"Now deal with \"+ file)\n",
    "            with open(os.path.join(inputpath,file),encoding='utf-8') as origin:\n",
    "                line_str = origin.readline()\n",
    "                while line_str != '':\n",
    "                    output.write(line_str)\n",
    "                    line_str = origin.readline()\n",
    "                output.write('\\n')"
   ]
  },
  {
   "cell_type": "code",
   "execution_count": 16,
   "metadata": {
    "hidden": true
   },
   "outputs": [
    {
     "name": "stdout",
     "output_type": "stream",
     "text": [
      "Now deal with wiki_00_new\n",
      "Now deal with wiki_01_new\n",
      "Now deal with wiki_02_new\n",
      "Now deal with wiki_03_new\n",
      "Now deal with wiki_04_new\n",
      "Now deal with wiki_08_new\n",
      "Now deal with wiki_09_new\n"
     ]
    }
   ],
   "source": [
    "merge_file(outputfile)"
   ]
  },
  {
   "cell_type": "markdown",
   "metadata": {
    "heading_collapsed": true
   },
   "source": [
    "#### THUCNews新浪新闻数据处理"
   ]
  },
  {
   "cell_type": "markdown",
   "metadata": {
    "hidden": true
   },
   "source": [
    "预处理新浪新闻数据·"
   ]
  },
  {
   "cell_type": "code",
   "execution_count": 2,
   "metadata": {
    "code_folding": [
     0,
     8,
     32
    ],
    "hidden": true
   },
   "outputs": [],
   "source": [
    "def get_stop_word(stop_word_path):   \n",
    "    stop_word_list = []\n",
    "    with open(stop_word_path) as f:\n",
    "        #330后包括了一些词的停用词，故不用\n",
    "        for i in range(350):\n",
    "            stop_word_list.append(f.readline().strip('\\n'))\n",
    "    return stop_word_list\n",
    "\n",
    "def pre_data_deal(folder):\n",
    "    stopwords = get_stop_word('stopwords.txt')\n",
    "    file_list = os.listdir(folder)\n",
    "    save_path = os.path.join(folder,folder+'新闻.txt')\n",
    "    with open(save_path, 'w', encoding='utf-8') as output:\n",
    "        i = 0\n",
    "        for file in file_list:\n",
    "            i += 1\n",
    "            if (i%1000==0):print(\"Now deal with\"+ folder + '{}'.format(i))\n",
    "            file_path = os.path.join(folder,file)\n",
    "            with open(file_path, encoding='utf-8') as f:\n",
    "                line = f.readline()\n",
    "                text = ''\n",
    "                while line!='':\n",
    "                    text += line.strip('\\n')\n",
    "                    line = f.readline()\n",
    "                text = text.replace(' ','')\n",
    "                words = jieba.cut(text)\n",
    "                text_split = ''\n",
    "                for word in words:\n",
    "                    if word not in stopwords:\n",
    "                        text_split += word+ ' '\n",
    "                output.write(text_split+'\\n')\n",
    "                \n",
    "def multi_deal_file_1(inputfile):\n",
    "    file_list = os.listdir(inputfile)\n",
    "    pool = mp.Pool()\n",
    "    arg_list = []\n",
    "    for file in file_list:\n",
    "            arg_list.append((os.path.join(inputfile, file),))\n",
    "\n",
    "    for arg in arg_list:\n",
    "        print(arg)\n",
    "        pool.apply_async(pre_data_deal, args=arg)\n",
    "\n",
    "    pool.close()\n",
    "    pool.join()"
   ]
  },
  {
   "cell_type": "code",
   "execution_count": 1,
   "metadata": {
    "hidden": true
   },
   "outputs": [],
   "source": [
    "inputfile = r'F:\\Download\\THUCNews\\THUCNews'\n",
    "#multi_deal_file_1(inputfile)"
   ]
  },
  {
   "cell_type": "markdown",
   "metadata": {},
   "source": [
    "#### 模型训练"
   ]
  },
  {
   "cell_type": "code",
   "execution_count": 69,
   "metadata": {},
   "outputs": [],
   "source": [
    "from gensim.models import word2vec\n",
    "from gensim.models import Word2Vec\n",
    "from gensim.models.word2vec import LineSentence\n",
    "import os\n",
    "import logging"
   ]
  },
  {
   "cell_type": "code",
   "execution_count": 6,
   "metadata": {},
   "outputs": [],
   "source": [
    "def merge_file(inputpath):\n",
    "    file_list = os.listdir(inputpath)\n",
    "    with open(os.path.join(inputpath,'new_result'), 'a',encoding='utf-8') as output:\n",
    "        for file in file_list:\n",
    "            print(\"Now deal with \"+ file)\n",
    "            with open(os.path.join(inputpath,file),encoding='utf-8') as origin:\n",
    "                line_str = origin.readline()\n",
    "                while line_str != '':\n",
    "                    output.write(line_str)\n",
    "                    line_str = origin.readline()\n",
    "                output.write('\\n')\n",
    "                \n",
    "def start_train(input_folder_path):    \n",
    "    logging.basicConfig(format=\"%(asctime)s:%(levelname)s:%(message)s\",level=logging.INFO)  \n",
    "    train_file_list = os.listdir(input_folder_path)\n",
    "    if len(train_file_list) > 1:\n",
    "        merge_file(input_folder_path)\n",
    "        train_file_path = os.path.join(input_folder_path, 'new_result')\n",
    "    else:\n",
    "        train_file_path = os.path.join(input_folder_path,train_file_list[0])\n",
    "        \n",
    "    sentences = LineSentence(train_file_path)\n",
    "    model = Word2Vec(sentences, size=300, window=5, min_count=2, workers=8, sg =1)\n",
    "    \n",
    "    model.save('./model/word2vec.model')\n",
    "        "
   ]
  },
  {
   "cell_type": "markdown",
   "metadata": {},
   "source": [
    "### 搜索Word2vec模型，获取和说相关的词"
   ]
  },
  {
   "cell_type": "code",
   "execution_count": 2,
   "metadata": {},
   "outputs": [
    {
     "name": "stderr",
     "output_type": "stream",
     "text": [
      "D:\\Design Software\\Anaconda\\envs\\py36\\lib\\site-packages\\gensim\\utils.py:1197: UserWarning: detected Windows; aliasing chunkize to chunkize_serial\n",
      "  warnings.warn(\"detected Windows; aliasing chunkize to chunkize_serial\")\n"
     ]
    }
   ],
   "source": [
    "from gensim.models import word2vec\n",
    "from gensim.models import Word2Vec\n",
    "from gensim.models.word2vec import LineSentence\n",
    "from gensim.models import KeyedVectors\n",
    "from gensim.test.utils import datapath\n",
    "from collections import defaultdict\n",
    "import logging"
   ]
  },
  {
   "cell_type": "code",
   "execution_count": 26,
   "metadata": {
    "code_folding": []
   },
   "outputs": [],
   "source": [
    "import time\n",
    "def get_related_words_im(initial_words, model):\n",
    "    \"\"\"\n",
    "    @initial_words are initial words we already know. is a list input\n",
    "    @model is the word2vec model\n",
    "    \"\"\"\n",
    "    unseen = initial_words\n",
    "    \n",
    "    seen = defaultdict(int)\n",
    "    \n",
    "    max_size = 500  # could be greater\n",
    "    \n",
    "    current_layer = 0\n",
    "    current_layer_length = len(unseen)\n",
    "    current_length = len(initial_words)  \n",
    "    \n",
    "    total_most_similar_find_time = 0\n",
    "    cache_dict = defaultdict(list)  #添加换乘，防止重复调用most_similar\n",
    "    while unseen and len(seen) < max_size:\n",
    "        if len(seen) % 50 == 0: \n",
    "            print('seen length : {}'.format(len(seen)))\n",
    "            \n",
    "        #print(unseen)\n",
    "            \n",
    "        node = unseen.pop(0)#类似广度搜索\n",
    "        \n",
    "        current_length -= 1 \n",
    "        \n",
    "        if node in cache_dict:\n",
    "            new_expanding = cache_dict[node]\n",
    "        else:\n",
    "            time_point = time.time()\n",
    "            new_expanding = [w for w, s in model.most_similar(node, topn=20)]\n",
    "            cache_dict[node] = new_expanding\n",
    "            total_most_similar_find_time += time.time()- time_point \n",
    "        \n",
    "        \n",
    "        unseen += new_expanding\n",
    "        \n",
    "        #当前层数遍历完，说明此时的unseen里保存的是下一层所有结点,更新层数和下一层结点个数\n",
    "        if current_length ==0: \n",
    "            current_layer += 1\n",
    "            current_layer_length = len(unseen)\n",
    "            current_length  = len(unseen)\n",
    "            \n",
    "        \n",
    "        #if seen['说']== 2:\n",
    "        #    break\n",
    "        \n",
    "        seen[node] +=  (1 - current_layer*0.1) * ((current_length/current_layer_length)*0.2 + 0.8)\n",
    "        \n",
    "        # optimal: 1. score function could be revised\n",
    "        # optimal: 2. using dymanic programming to reduce computing time\n",
    "    total_most_similar_find_time = int(total_most_similar_find_time)\n",
    "    print(current_layer)\n",
    "    print('total_most_similar_find_time:{}min {}s'.\\\n",
    "          format(total_most_similar_find_time//60 ,total_most_similar_find_time%60))\n",
    "    return seen"
   ]
  },
  {
   "cell_type": "code",
   "execution_count": 4,
   "metadata": {},
   "outputs": [
    {
     "name": "stderr",
     "output_type": "stream",
     "text": [
      "D:\\Design Software\\Anaconda\\envs\\py36\\lib\\site-packages\\smart_open\\smart_open_lib.py:398: UserWarning: This function is deprecated, use smart_open.open instead. See the migration notes for details: https://github.com/RaRe-Technologies/smart_open/blob/master/README.rst#migrating-to-the-new-open-function\n",
      "  'See the migration notes for details: %s' % _MIGRATION_NOTES_URL\n"
     ]
    }
   ],
   "source": [
    "#logging.basicConfig(format=\"%(asctime)s:%(levelname)s:%(message)s\",level=logging.INFO)\n",
    "#from gensim.models import KeyedVectors\n",
    "fname = r\"E:/MYGIT/model/wiki_stopwords/wiki_word2vec.kv\"\n",
    "#model_wv.save(fname)\n",
    "model_wv = KeyedVectors.load(fname, mmap='r')"
   ]
  },
  {
   "cell_type": "code",
   "execution_count": 21,
   "metadata": {},
   "outputs": [
    {
     "name": "stderr",
     "output_type": "stream",
     "text": [
      "2019-08-14 11:39:52,375:INFO:loading Word2Vec object from E:/MYGIT/model/news/news_word2vec.model\n",
      "D:\\Design Software\\Anaconda\\envs\\py36\\lib\\site-packages\\smart_open\\smart_open_lib.py:398: UserWarning: This function is deprecated, use smart_open.open instead. See the migration notes for details: https://github.com/RaRe-Technologies/smart_open/blob/master/README.rst#migrating-to-the-new-open-function\n",
      "  'See the migration notes for details: %s' % _MIGRATION_NOTES_URL\n",
      "2019-08-14 11:39:55,885:INFO:loading trainables recursively from E:/MYGIT/model/news/news_word2vec.model.trainables.* with mmap=None\n",
      "2019-08-14 11:39:55,885:INFO:loading syn1neg from E:/MYGIT/model/news/news_word2vec.model.trainables.syn1neg.npy with mmap=None\n",
      "2019-08-14 11:40:17,834:INFO:loading wv recursively from E:/MYGIT/model/news/news_word2vec.model.wv.* with mmap=None\n",
      "2019-08-14 11:40:17,834:INFO:loading vectors from E:/MYGIT/model/news/news_word2vec.model.wv.vectors.npy with mmap=None\n",
      "2019-08-14 11:41:36,006:INFO:setting ignored attribute vectors_norm to None\n",
      "2019-08-14 11:41:36,240:INFO:loading vocabulary recursively from E:/MYGIT/model/news/news_word2vec.model.vocabulary.* with mmap=None\n",
      "2019-08-14 11:41:36,255:INFO:setting ignored attribute cum_table to None\n",
      "2019-08-14 11:41:36,302:INFO:loaded E:/MYGIT/model/news/news_word2vec.model\n"
     ]
    }
   ],
   "source": [
    "#>>> from gensim.test.utils import get_tmpfile\n",
    "#>>> from gensim.models import KeyedVectors\n",
    "#>>>\n",
    "#>>> fname = get_tmpfile(\"vectors.kv\")\n",
    "#>>> word_vectors.save(fname)\n",
    "#>>> word_vectors = KeyedVectors.load(fname, mmap='r')\n",
    "logging.basicConfig(format=\"%(asctime)s:%(levelname)s:%(message)s\",level=logging.INFO)\n",
    "path = 'E:/MYGIT/model/news/news_word2vec.model'\n",
    "model = Word2Vec.load(path)\n",
    "model_wv = model.wv\n",
    "del model"
   ]
  },
  {
   "cell_type": "code",
   "execution_count": 24,
   "metadata": {},
   "outputs": [],
   "source": [
    "del model_wv"
   ]
  },
  {
   "cell_type": "code",
   "execution_count": 27,
   "metadata": {},
   "outputs": [
    {
     "name": "stdout",
     "output_type": "stream",
     "text": [
      "222 ms ± 20.4 ms per loop (mean ± std. dev. of 7 runs, 1 loop each)\n"
     ]
    }
   ],
   "source": [
    "%%timeit\n",
    "model_wv.most_similar('认为', topn=20)"
   ]
  },
  {
   "cell_type": "code",
   "execution_count": 31,
   "metadata": {},
   "outputs": [
    {
     "data": {
      "text/plain": [
       "51"
      ]
     },
     "execution_count": 31,
     "metadata": {},
     "output_type": "execute_result"
    }
   ],
   "source": [
    "111%60"
   ]
  },
  {
   "cell_type": "code",
   "execution_count": 25,
   "metadata": {},
   "outputs": [
    {
     "name": "stdout",
     "output_type": "stream",
     "text": [
      "seen length : 0\n",
      "seen length : 50\n",
      "seen length : 100\n",
      "seen length : 150\n",
      "seen length : 150\n",
      "seen length : 150\n",
      "seen length : 200\n",
      "seen length : 250\n",
      "seen length : 300\n",
      "seen length : 350\n",
      "seen length : 400\n",
      "seen length : 450\n",
      "3\n",
      "total_most_similar_find_time:1min40s\n",
      "Wall time: 1min 40s\n"
     ]
    }
   ],
   "source": [
    "%%time\n",
    "related_words  = get_related_words_im(['说', '表示'], model_wv)\n",
    "result_sorted = sorted(related_words.items(), key=lambda x: x[1], reverse=True)"
   ]
  },
  {
   "cell_type": "code",
   "execution_count": 14,
   "metadata": {},
   "outputs": [
    {
     "name": "stdout",
     "output_type": "stream",
     "text": [
      "seen length : 0\n",
      "seen length : 50\n",
      "seen length : 100\n",
      "seen length : 150\n",
      "seen length : 150\n",
      "seen length : 150\n",
      "seen length : 200\n",
      "seen length : 250\n",
      "seen length : 300\n",
      "seen length : 350\n",
      "seen length : 400\n",
      "seen length : 450\n",
      "3\n",
      "Wall time: 1min 40s\n"
     ]
    }
   ],
   "source": [
    "%%time\n",
    "related_words  = get_related_words_im(['说', '表示'], model_wv)\n",
    "result_sorted = sorted(related_words.items(), key=lambda x: x[1], reverse=True)"
   ]
  },
  {
   "cell_type": "code",
   "execution_count": null,
   "metadata": {},
   "outputs": [],
   "source": [
    "#result_sorted"
   ]
  },
  {
   "cell_type": "code",
   "execution_count": 93,
   "metadata": {},
   "outputs": [],
   "source": [
    "result_sorted = sorted(related_words.items(), key=lambda x: x[1], reverse=True)"
   ]
  },
  {
   "cell_type": "code",
   "execution_count": 87,
   "metadata": {},
   "outputs": [],
   "source": [
    "import pickle"
   ]
  },
  {
   "cell_type": "code",
   "execution_count": 12,
   "metadata": {},
   "outputs": [],
   "source": [
    "with open('similar_word_wk2', 'w',encoding='utf-8') as  f:\n",
    "    for line in result_sorted:\n",
    "        f.write(str(line)+'\\n')"
   ]
  },
  {
   "cell_type": "markdown",
   "metadata": {},
   "source": [
    "## 使用NER&Denpendency Prasing对句子进行解析 "
   ]
  },
  {
   "cell_type": "markdown",
   "metadata": {},
   "source": [
    "### 句子依存关系解析"
   ]
  },
  {
   "cell_type": "markdown",
   "metadata": {},
   "source": [
    "分析步骤：\n",
    "1. 把文章切断成句子\n",
    "2. 对条句子进行分析"
   ]
  },
  {
   "cell_type": "code",
   "execution_count": 1,
   "metadata": {},
   "outputs": [],
   "source": [
    "from sqlalchemy import Column, String, create_engine\n",
    "from sqlalchemy.orm import sessionmaker\n",
    "from sqlalchemy.ext.declarative import declarative_base\n",
    "from sqlalchemy.sql import select"
   ]
  },
  {
   "cell_type": "code",
   "execution_count": 2,
   "metadata": {},
   "outputs": [],
   "source": [
    "passward = 'AI@2019@ai'\n",
    "host = 'rm-8vbwj6507z6465505ro.mysql.zhangbei.rds.aliyuncs.com'\n",
    "user = 'root'\n",
    "post = '3306'\n",
    "database = 'stu_db'\n",
    "engine= create_engine(\"mysql+mysqlconnector://{}:{}@{}:{}/{}\".format(user,passward,host,post,database))\n",
    "connection = engine.connect()"
   ]
  },
  {
   "cell_type": "code",
   "execution_count": 3,
   "metadata": {},
   "outputs": [],
   "source": [
    "id_list = connection.execute(\"select id from news_chinese\")\n",
    "id_list = id_list.fetchall()\n",
    "content_list = connection.execute(\"select content from news_chinese\")\n",
    "content_list = content_list.fetchall()"
   ]
  },
  {
   "cell_type": "code",
   "execution_count": 4,
   "metadata": {
    "code_folding": [
     15,
     27,
     40,
     56
    ]
   },
   "outputs": [],
   "source": [
    "from pyltp import Segmentor\n",
    "from pyltp import Postagger\n",
    "from pyltp import NamedEntityRecognizer\n",
    "from pyltp import SentenceSplitter\n",
    "from pyltp import Parser\n",
    "import os\n",
    "\n",
    "#分句\n",
    "def cut_sentence(string):\n",
    "    \"\"\"@string contain many sentence\"\"\"\n",
    "    from pyltp import SentenceSplitter\n",
    "    sents = SentenceSplitter.split(string)  # 分句\n",
    "    return list(sents)\n",
    "    \n",
    "#分词\n",
    "def cut_word(sentence):\n",
    "    \"\"\"@sentence is a string\"\"\"\n",
    "    LTP_DATA_DIR = 'E:/MYGIT/Project/ltp_data'  # ltp模型目录的路径\n",
    "    cws_model_path = os.path.join(LTP_DATA_DIR, 'cws.model')  # 分词模型路径，模型名称为`cws.model`\n",
    "\n",
    "    segmentor = Segmentor()  # 初始化实例\n",
    "    segmentor.load_with_lexicon(cws_model_path, '..\\ltp_data\\cut_external_dict\\cut_external_dict')  # 加载模型\n",
    "    words = segmentor.segment(sentence)  # 分词\n",
    "    segmentor.release()  # 释放模型\n",
    "    return list(words)\n",
    "\n",
    "#词信标注\n",
    "def pos_label(words):\n",
    "    \"\"\"@words is a list result of cut word\"\"\"\n",
    "    LTP_DATA_DIR = 'E:/MYGIT/Project/ltp_data'  # ltp模型目录的路径\n",
    "    pos_model_path = os.path.join(LTP_DATA_DIR, 'pos.model')  # 词性标注模型路径，模型名称为`pos.model`\n",
    "\n",
    "    postagger = Postagger() # 初始化实例\n",
    "    postagger.load_with_lexicon(pos_model_path, '../ltp_data/pos_external_dict/pos_external_dict')   # 加载模型\n",
    "\n",
    "    postags = postagger.postag(words)  # 词性标注\n",
    "    postagger.release()  # 释放模型\n",
    "    return list(postags)\n",
    "\n",
    "#命名实体识别\n",
    "def ner_label(words, postags):\n",
    "    \"\"\"@words is a list  result of cut word\n",
    "       @postags is a list result of Part-Of-Speech tagging\n",
    "    \"\"\"\n",
    "    LTP_DATA_DIR = 'E:/MYGIT/Project/ltp_data'  # ltp模型目录的路径\n",
    "    ner_model_path = os.path.join(LTP_DATA_DIR, 'ner.model')  # 命名实体识别模型路径，模型名称为`pos.model`\n",
    "\n",
    "    recognizer = NamedEntityRecognizer() # 初始化实例\n",
    "    recognizer.load(ner_model_path)  # 加载模型\n",
    "\n",
    "    netags = recognizer.recognize(words, postags)  # 命名实体识别\n",
    "    recognizer.release()  # 释放模型\n",
    "    \n",
    "    return list(netags)\n",
    "\n",
    "#依存句法分析\n",
    "def dependency_parsing(words, postags):\n",
    "    \"\"\"@words is a list  result of cut word\n",
    "       @postags is a list result of Part-Of-Speech tagging\n",
    "    \"\"\" \n",
    "    LTP_DATA_DIR = 'E:/MYGIT/Project/ltp_data'  # ltp模型目录的路径\n",
    "    par_model_path = os.path.join(LTP_DATA_DIR, 'parser.model')  # 依存句法分析模型路径，模型名称为`parser.model`\n",
    "    \n",
    "    parser = Parser() # 初始化实例\n",
    "    parser.load(par_model_path)  # 加载模型\n",
    "\n",
    "    arcs = parser.parse(words, postags)  # 句法分析\n",
    "\n",
    "    parser.release()  # 释放模型\n",
    "    return list(arcs)"
   ]
  },
  {
   "cell_type": "code",
   "execution_count": 5,
   "metadata": {
    "code_folding": [
     0
    ]
   },
   "outputs": [],
   "source": [
    "def pretty_print(word_list, ner_list):   \n",
    "    import math\n",
    "    num = math.ceil(len(word_list)/14)\n",
    "    index = range(1, len(word_list)+1)\n",
    "    for line_num in range(num):\n",
    "        str1 = ''\n",
    "        str2 = ''\n",
    "        str3 = ''\n",
    "        if line_num == num -1:\n",
    "            word_temp = word_list[line_num*14:]\n",
    "            ner_temp = ner_list[line_num*14:]\n",
    "            index_temp = index[line_num*14:]\n",
    "        else:\n",
    "            word_temp = word_list[line_num*14:(line_num+1)*14]\n",
    "            ner_temp = ner_list[line_num*14:(line_num+1)*14]   \n",
    "            index_temp = index[line_num*14:(line_num+1)*14]\n",
    "        for i, j in zip(word_temp, ner_temp):\n",
    "            i_len = len(i)\n",
    "            j_len = len(j)\n",
    "            if i_len > 5:\n",
    "                str1 += '{}\\t|'\n",
    "                str2 += '{}\\t\\t|'\n",
    "                str3 += '{}\\t\\t|'\n",
    "            else:\n",
    "                str1 += '{}\\t|'\n",
    "                str2 += '{}\\t|'\n",
    "                str3 += '{}\\t|'\n",
    "        print(str3.format(*index_temp))\n",
    "        print(str1.format(*word_temp))\n",
    "        print(str2.format(*ner_temp),'\\n')\n",
    "        \n",
    "def table_print(word_list, ner_list):\n",
    "    import prettytable as pt\n",
    "    tb = pt.PrettyTable()\n",
    "    tb.add_column('1',word_list)\n",
    "    tb.add_column('2',ner_list)\n",
    "    print(tb)"
   ]
  },
  {
   "cell_type": "markdown",
   "metadata": {},
   "source": [
    "命名实体识别标注集:\n",
    "- 标记 =\t含义\n",
    "- O =\t这个词不是NE\n",
    "- S =\t这个词单独构成一个NE\n",
    "- B =\t这个词为一个NE的开始\n",
    "- I =\t这个词为一个NE的中间\n",
    "- E =\t这个词位一个NE的结尾\n",
    "- Nh =\t人名\n",
    "- Ni =\t机构名\n",
    "- Ns =\t地名"
   ]
  },
  {
   "cell_type": "markdown",
   "metadata": {},
   "source": [
    "用依存句法分析找出观点的内容"
   ]
  },
  {
   "cell_type": "code",
   "execution_count": 6,
   "metadata": {
    "code_folding": [
     0,
     4,
     9,
     22
    ]
   },
   "outputs": [],
   "source": [
    "def find_word_index(word,words):\n",
    "    for i in range(len(words)):\n",
    "        if words[i] == word:\n",
    "            return i\n",
    "def find_head(den_parsing_list):\n",
    "    for i in range(len(den_parsing_list)):\n",
    "        if den_parsing_list[i].head == 0:\n",
    "            return i\n",
    "\n",
    "def search_index(start, den_parsing_list,word_list):\n",
    "    tree_dict = {word_list[start]:{}}\n",
    "    j=0\n",
    "    for i,arc in enumerate(den_parsing_list):\n",
    "        if arc.head == start+1:\n",
    "            j +=1\n",
    "            tree_dict[word_list[start]][word_list[i]] = \\\n",
    "            search_index(i,den_parsing_list,word_list)\n",
    "    if j==0:return word_list[start]\n",
    "    return tree_dict  \n",
    "\n",
    "from collections import defaultdict\n",
    "#该函数找出树形结构关系，并返回关系，层数和最大宽度，方便图绘制\n",
    "def search_find_dict(start, den_parsing_list,word_list_orgin):\n",
    "    word_list = []\n",
    "    #对重复词进行重新编号，以区别\n",
    "    for i,word in enumerate(word_list_orgin):\n",
    "        if word in word_list:\n",
    "            word_list.append(word+'_'+str(i))\n",
    "        else:\n",
    "            word_list.append(word)\n",
    "            \n",
    "    tree_dict = defaultdict(list)\n",
    "    \n",
    "    current_layer = 0\n",
    "    length = len(start)\n",
    "    max_length = 0\n",
    "    while start!= []:\n",
    "        current_p = start.pop(0)\n",
    "        length -= 1 \n",
    "        for i,arc in enumerate(den_parsing_list):\n",
    "            if arc.head == current_p+1:\n",
    "                start.append(i)\n",
    "                tree_dict[word_list[current_p]] += [[word_list[i],arc.relation]]\n",
    "        #当遍历到下一层时\n",
    "        if length == 0:\n",
    "            current_layer +=1\n",
    "            length = len(start)\n",
    "            if max_length < length:\n",
    "                max_length = length\n",
    "    return tree_dict"
   ]
  },
  {
   "cell_type": "code",
   "execution_count": 7,
   "metadata": {},
   "outputs": [],
   "source": [
    "from matplotlib import pyplot as plt"
   ]
  },
  {
   "cell_type": "code",
   "execution_count": 8,
   "metadata": {},
   "outputs": [],
   "source": [
    "plt.rcParams['font.sans-serif']= ['SimHei']"
   ]
  },
  {
   "cell_type": "markdown",
   "metadata": {},
   "source": [
    "自定义个绘制了依存句法关系的模块：\n",
    "\n",
    "模块在plottree.plottree 里的 createPlot方法"
   ]
  },
  {
   "cell_type": "markdown",
   "metadata": {},
   "source": [
    "去掉标点，对比一下结果"
   ]
  },
  {
   "cell_type": "markdown",
   "metadata": {
    "heading_collapsed": true
   },
   "source": [
    "### 获取依存关系某结点所有的子树构成的句子"
   ]
  },
  {
   "cell_type": "markdown",
   "metadata": {
    "hidden": true
   },
   "source": [
    "我们在4.1中得到了句子的依存关系树,现要获取某个节点以下的所有词所构成的句子\n",
    "- 方法1：直接遍历pyltp的分析结果，找出所有该节点下的元素的索引值\n",
    "- 方法2：在自己构建的字典中找"
   ]
  },
  {
   "cell_type": "code",
   "execution_count": 9,
   "metadata": {
    "code_folding": [
     0
    ],
    "hidden": true
   },
   "outputs": [],
   "source": [
    "def search_find_sentence(start, den_parsing_list, word_list):\n",
    "    if not isinstance(start, list):\n",
    "        start = [start]\n",
    "    \n",
    "    words_index = []\n",
    "    words_index.append(start[0])\n",
    "    while start != []:\n",
    "        cur = start.pop(0)\n",
    "        for i,arc in enumerate(den_parsing_list):\n",
    "            if arc.head == cur+1:\n",
    "                words_index.append(i)\n",
    "                start.append(i)\n",
    "                \n",
    "    words_index_sorted = sorted(words_index)\n",
    "    \n",
    "    return ''.join([word_list[i] for i in words_index_sorted])"
   ]
  },
  {
   "cell_type": "markdown",
   "metadata": {
    "heading_collapsed": true
   },
   "source": [
    "### 针对说等次词，找出其宾语即说的内容"
   ]
  },
  {
   "cell_type": "markdown",
   "metadata": {
    "hidden": true
   },
   "source": [
    "下列的**受访者**没有被识别为命名实体，可以通过词性标注外部词典来增加用户自定义命名实体"
   ]
  },
  {
   "cell_type": "code",
   "execution_count": 10,
   "metadata": {
    "code_folding": [
     0,
     31
    ],
    "hidden": true
   },
   "outputs": [],
   "source": [
    "def pretty_print(word_list, ner_list):   \n",
    "    import math\n",
    "    num = math.ceil(len(word_list)/14)\n",
    "    index = range(1, len(word_list)+1)\n",
    "    for line_num in range(num):\n",
    "        str1 = ''\n",
    "        str2 = ''\n",
    "        str3 = ''\n",
    "        if line_num == num -1:\n",
    "            word_temp = word_list[line_num*14:]\n",
    "            ner_temp = ner_list[line_num*14:]\n",
    "            index_temp = index[line_num*14:]\n",
    "        else:\n",
    "            word_temp = word_list[line_num*14:(line_num+1)*14]\n",
    "            ner_temp = ner_list[line_num*14:(line_num+1)*14]   \n",
    "            index_temp = index[line_num*14:(line_num+1)*14]\n",
    "        for i, j in zip(word_temp, ner_temp):\n",
    "            i_len = len(i)\n",
    "            j_len = len(j)\n",
    "            if i_len > 5:\n",
    "                str1 += '{}\\t|'\n",
    "                str2 += '{}\\t\\t|'\n",
    "                str3 += '{}\\t\\t|'\n",
    "            else:\n",
    "                str1 += '{}\\t|'\n",
    "                str2 += '{}\\t|'\n",
    "                str3 += '{}\\t|'\n",
    "        print(str3.format(*index_temp))\n",
    "        print(str1.format(*word_temp))\n",
    "        print(str2.format(*ner_temp),'\\n')\n",
    "        \n",
    "def table_print(word_list, ner_list):\n",
    "    import prettytable as pt\n",
    "    tb = pt.PrettyTable()\n",
    "    tb.add_column('1',word_list)\n",
    "    tb.add_column('2',ner_list)\n",
    "    print(tb)"
   ]
  },
  {
   "cell_type": "code",
   "execution_count": 34,
   "metadata": {
    "code_folding": [
     9,
     13,
     18,
     34,
     55,
     75,
     87,
     93,
     120,
     141,
     154,
     167
    ],
    "hidden": true
   },
   "outputs": [],
   "source": [
    "from collections import defaultdict\n",
    "from pyltp import Segmentor\n",
    "from pyltp import Postagger\n",
    "from pyltp import NamedEntityRecognizer\n",
    "from pyltp import SentenceSplitter\n",
    "from pyltp import Parser\n",
    "import os\n",
    "import time\n",
    "\n",
    "def find_word_index(word,words):\n",
    "    for i in range(len(words)):\n",
    "        if words[i] == word:\n",
    "            return i\n",
    "def find_head(den_parsing_list):\n",
    "    for i in range(len(den_parsing_list)):\n",
    "        if den_parsing_list[i].head == 0:\n",
    "            return i\n",
    "        \n",
    "def search_find_sentence(start, den_parsing_list, word_list):\n",
    "    if not isinstance(start, list):\n",
    "        start = [start]\n",
    "    \n",
    "    words_index = []\n",
    "    words_index.append(start[0])\n",
    "    while start != []:\n",
    "        cur = start.pop(0)\n",
    "        for i,arc in enumerate(den_parsing_list):\n",
    "            if arc.head == cur+1:\n",
    "                words_index.append(i)\n",
    "                start.append(i)\n",
    "                \n",
    "    words_index_sorted = sorted(words_index)\n",
    "    \n",
    "    return ''.join([word_list[i] for i in words_index_sorted])\n",
    "def search_find_sentence_1(start, den_parsing_list, word_list):\n",
    "    #和之前的search_find_sentence比，该函数不会返回和start并列的的词语下的语句\n",
    "    start_point = start\n",
    "    if not isinstance(start, list):\n",
    "        start = [start]\n",
    "    \n",
    "    words_index = []\n",
    "    words_index.append(start[0])\n",
    "    while start != []:\n",
    "        cur = start.pop(0)\n",
    "        for i,arc in enumerate(den_parsing_list):\n",
    "            if arc.head == cur+1:\n",
    "                if arc.head == start_point+1 and arc.relation =='COO': continue\n",
    "                words_index.append(i)\n",
    "                start.append(i)\n",
    "                \n",
    "    words_index_sorted = sorted(words_index)\n",
    "    \n",
    "    return ''.join([word_list[i] for i in words_index_sorted])\n",
    "\n",
    "#找出输入所有节点中最小的索引和最大的索引，然后返回两者间的句子\n",
    "def find_sentence(parent_point, den_parsing_list, word_list):\n",
    "    #parent_point could be a list\n",
    "    assert  len(den_parsing_list) == len(word_list)\n",
    "        \n",
    "    words_index = []\n",
    "    #搜索子节点\n",
    "    for point in parent_point:\n",
    "        start = [point]\n",
    "        words_index.append(start[0])\n",
    "        while start!= []:\n",
    "            cur = start.pop(0)\n",
    "            for i, arc in enumerate(den_parsing_list):\n",
    "                if arc.head == cur + 1:\n",
    "                    words_index.append(i)\n",
    "                    start.append(i)\n",
    "    words_index = sorted(words_index)\n",
    "    #print(words_index, len(word_list))\n",
    "    return ''.join(word_list[words_index[0]:words_index[-1]+1])\n",
    "\n",
    "\n",
    "def search_index(start, den_parsing_list,word_list):\n",
    "    tree_dict = {word_list[start]:{}}\n",
    "    j=0\n",
    "    for i,arc in enumerate(den_parsing_list):\n",
    "        if arc.head == start+1:\n",
    "            j +=1\n",
    "            tree_dict[word_list[start]][word_list[i]] = \\\n",
    "            search_index(i,den_parsing_list,word_list)\n",
    "    if j==0:return word_list[start]\n",
    "    return tree_dict    \n",
    "\n",
    "#分句\n",
    "def cut_sentence(string):\n",
    "    \"\"\"@string contain many sentence\"\"\"\n",
    "    from pyltp import SentenceSplitter\n",
    "    sents = SentenceSplitter.split(string)  # 分句\n",
    "    return list(sents)\n",
    "\n",
    "def load_all_model():\n",
    "    \"\"\"返回分词，词性标注，命名实体识别，依存解析等实例对象\"\"\"\n",
    "    LTP_DATA_DIR = 'E:/MYGIT/Project/ltp_data'  # ltp模型目录的路径\n",
    "    cws_model_path = os.path.join(LTP_DATA_DIR, 'cws.model')  # 分词模型路径，模型名称为`cws.model`\n",
    "    segmentor = Segmentor()  # 初始化实例\n",
    "    segmentor.load_with_lexicon(cws_model_path, '../ltp_data/cut_external_dict/cut_external_dict')  # 加载模型\n",
    "    \n",
    "    LTP_DATA_DIR = 'E:/MYGIT/Project/ltp_data'  # ltp模型目录的路径\n",
    "    pos_model_path = os.path.join(LTP_DATA_DIR, 'pos.model')  # 词性标注模型路径，模型名称为`pos.model`\n",
    "    postagger = Postagger() # 初始化实例\n",
    "    postagger.load_with_lexicon(pos_model_path, '../ltp_data/pos_external_dict/pos_external_dict')  # 加载模型\n",
    "\n",
    "    LTP_DATA_DIR = 'E:/MYGIT/Project/ltp_data'  # ltp模型目录的路径\n",
    "    ner_model_path = os.path.join(LTP_DATA_DIR, 'ner.model')  # 命名实体识别模型路径，模型名称为`pos.model`\n",
    "    recognizer = NamedEntityRecognizer() # 初始化实例\n",
    "    recognizer.load(ner_model_path)  # 加载模型\n",
    "\n",
    "    LTP_DATA_DIR = 'E:/MYGIT/Project/ltp_data'  # ltp模型目录的路径\n",
    "    par_model_path = os.path.join(LTP_DATA_DIR, 'parser.model')  # 依存句法分析模型路径，模型名称为`parser.model`   \n",
    "    parser = Parser() # 初始化实例\n",
    "    parser.load(par_model_path)  # 加载模型\n",
    "    \n",
    "    return segmentor, postagger, recognizer, parser\n",
    "def release_all_model(model_list):\n",
    "    for each in model_list:\n",
    "        each.release()\n",
    "#获取人名或机构名\n",
    "def get_name(name_index, ner_list, word_list):\n",
    "    # 合并说话对象名字\n",
    "    if ner_list[name_index][0] == 'S':\n",
    "        name = word_list[name_index]\n",
    "    elif ner_list[name_index][0] == 'B':\n",
    "        if ner_list[name_index + 1][0] == 'I':\n",
    "            name = ''.join([word_list[name_index + i] for i in range(3)])\n",
    "        else:\n",
    "            name = ''.join([word_list[name_index + i] for i in range(2)])\n",
    "    elif ner_list[name_index][0] == 'E':\n",
    "        if ner_list[name_index - 1][0] == 'I':\n",
    "            name = ''.join([word_list[name_index - i] for i in [2, 1, 0]])\n",
    "        else:\n",
    "            name = ''.join([word_list[name_index - i] for i in [1, 0]])\n",
    "    elif ner_list[name_index][0] == 'I':\n",
    "        name = ''.join([word_list[name_index + i] for i in [-1, 0, 1]])\n",
    "\n",
    "    return name\n",
    "\n",
    "#找到离index最近的那个人名\n",
    "#找到离index最近的那个人名\n",
    "def find_replace_name(candidate, index, compared_word):\n",
    "    for i, name in enumerate(candidate):\n",
    "        if name[1] >= index:\n",
    "            flag = i-1\n",
    "            break\n",
    "    if  candidate[-1][1]< index:\n",
    "        flag = len(candidate) -1\n",
    "        \n",
    "    while flag> 0 and (candidate[flag][0] == compared_word or candidate[flag][0] in ['他', '她们', '她', '他们', '其']):\n",
    "        flag -= 1   \n",
    "    return candidate[flag]\n",
    "\n",
    "##如果规则提取不出，采用，。等标识提取句子\n",
    "def rule_1(candidate, word_list):\n",
    "    start_flag = True\n",
    "    for i in range(candidate[1], len(word_list)):\n",
    "        if start_flag and word_list[i] in [':', ',', '，', '：']:\n",
    "            start = i\n",
    "            start_flag = False\n",
    "        if word_list[i] in ['。', '！']:\n",
    "            end = i\n",
    "            break\n",
    "    say_text = ''.join(word_list[start + 1:end + 1])\n",
    "    return say_text\n",
    "\n",
    "\n",
    "def rule_2(name, name_list, _i, candidate, den_parsing_list, word_list):\n",
    "    while name in ['他', '她们', '她', '他们', '其']:\n",
    "        # 获取他等词语后面的第一个实体，把该实体排除在他的指代词外\n",
    "        after_name = [_name[0] for _name in name_list if _name[1] > _i * 1000 + candidate[0]]\n",
    "        if after_name != []:\n",
    "            compared_word = after_name[0]\n",
    "        else:\n",
    "            compared_word = 'test'\n",
    "        try:\n",
    "            name_and_index = find_replace_name(name_list, _i * 1000 + candidate[0], compared_word)\n",
    "            name = name_and_index[0]\n",
    "        except:\n",
    "            pass\n",
    "    if name in ['爷爷', '奶奶', '公司', '人士'] and name in word_list:\n",
    "        try:\n",
    "            index = name_and_index[1] % 1000\n",
    "        except NameError:\n",
    "            index = candidate[0]\n",
    "        name = find_sentence([index], den_parsing_list, word_list)\n",
    "    return   name\n",
    "\n",
    "\n",
    "def find_opinion_of_someone(input_news, say_related, model_list):\n",
    "    # 输入文本进行分句\n",
    "    time_point_0 = time.time()\n",
    "    segmentor = model_list[0]\n",
    "    postagger = model_list[1]\n",
    "    recognizer= model_list[2]\n",
    "    parser= model_list[3]\n",
    "    print(\"模型加载时间: {:4f}\".format(time.time() - time_point_0))\n",
    "\n",
    "    sentence_list = cut_sentence(input_news)\n",
    "    sentence_list = [sen for sen in sentence_list if len(sen) > 3]\n",
    "    Entity = ['S-Nh', 'S-Ni', 'B-Nh', 'B-Ni', 'I-Nh', 'I-Ni', 'E-Nh', 'E-Ni']  # 命名实体标记\n",
    "    news_list = []\n",
    "\n",
    "    name_list = [] #用于保存所有命令实体\n",
    "    for _i, sentence in enumerate(sentence_list):\n",
    "        print('\\n——————————句子:{} 处理过程——————————'.format(_i + 1))\n",
    "        time_point_1 = time.time()\n",
    "        word_list = list(segmentor.segment(sentence))  # 分词\n",
    "        pos_list = list(postagger.postag(word_list))  # 词性分析\n",
    "        ner_list = list(recognizer.recognize(word_list, pos_list))  # 命名实体提取\n",
    "        den_parsing_list = list(parser.parse(word_list, pos_list))  # 依存关系\n",
    "\n",
    "        time_point_2 = time.time()\n",
    "        print(\"pyltp模块处理时间: {:4f}\".format(time_point_2 - time_point_1))\n",
    "\n",
    "\n",
    "        # 获取命名实体和说相关词,同时获取索引值\n",
    "        pro_say_word = [(a, i) for i, a in enumerate(word_list) if a in say_related]\n",
    "        pro_name = [(a, i) for i, a in enumerate(ner_list) if a in Entity]\n",
    "        pro_say = [i[0] for i in pro_say_word]\n",
    "        \n",
    "        #把命名实体存入，并保持实体在整个输入文章的位置信息，用_i*100+ name[1]来表示\n",
    "        for name in pro_name:\n",
    "            name_list.append((word_list[name[1]],_i*1000+ name[1]))\n",
    "        # 以下三行用于调试\n",
    "        if pro_name == [] and pro_say_word == []:\n",
    "            print('没有:相应命名实体,没有:相应说类似操作')\n",
    "        elif pro_name == []:\n",
    "            print('没有:相应命名实体,有:相应说类似操作')\n",
    "        elif pro_say_word == []:\n",
    "            print('有:相应命名实体,没有:相应说类似操作')\n",
    "\n",
    "        # 如果没有命名实体和说相关词，跳过本句\n",
    "        if pro_name == [] or pro_say_word == []: continue\n",
    "\n",
    "        #获取可能存在的人和其对应的观点索引\n",
    "        candidates = []\n",
    "        for _a in pro_name:#增加了ATT\n",
    "            if den_parsing_list[_a[1]].relation in ['SBV','ATT'] and \\\n",
    "                word_list[den_parsing_list[_a[1]].head-1] in pro_say:\n",
    "                candidates.append((_a[1], den_parsing_list[_a[1]].head-1))         \n",
    "        if candidates ==[] :\n",
    "            #处理冒号特殊场景   \n",
    "            if '：' in pro_say:\n",
    "                try:\n",
    "                    name = find_replace_name(name_list, 1000*_i + pro_say_word[pro_say.index('：')][1], 'test')[0]\n",
    "                    say_text = rule_1((1 ,pro_say_word[pro_say.index('：')][1]), word_list)\n",
    "                    news_list.append(['第{}句:'.format(_i + 1), name, say_text])\n",
    "                except:\n",
    "                    pass\n",
    "        if candidates == []: continue\n",
    "        \n",
    "        #从候选集中获取观点\n",
    "        print(candidates)\n",
    "        for candidate in candidates:\n",
    "            say_word_under = []\n",
    "            assert ner_list[candidate[0]] in Entity\n",
    "            name = get_name(candidate[0], ner_list, word_list)\n",
    "\n",
    "            for i, arc in enumerate(den_parsing_list):\n",
    "                if candidate != candidates[-1]:##出现多个时候，并列的是属于后一个人说的话\n",
    "                    if arc.head - 1 == candidate[1] and arc.relation in ['VOB']:\n",
    "                        say_word_under.append(i)\n",
    "                else:\n",
    "                    if arc.head - 1 == candidate[1] and arc.relation in ['VOB','COO']:\n",
    "                        say_word_under.append(i)\n",
    "            \n",
    "            #else后是附加规则来提取\n",
    "            #如果规则提取不出，采用，。等标识提取句子\n",
    "            #规则1,提取句子规则：\n",
    "            if say_word_under != []:\n",
    "                say_text = find_sentence(say_word_under, den_parsing_list, word_list)\n",
    "            else:\n",
    "                try:\n",
    "                    say_text = rule_1(candidate, word_list)\n",
    "                except:\n",
    "                    continue\n",
    "\n",
    "            #规则2：他，她们等词替换, 找距离他之前最近的一个命名实体，更换指代规则\n",
    "            try:\n",
    "                name = rule_2(name, name_list, _i, candidate, den_parsing_list, word_list)\n",
    "            except:\n",
    "                pass\n",
    "\n",
    "            news_list.append(['第{}句:'.format(_i + 1), name, say_text])\n",
    "\n",
    "            time_point_3 = time.time()\n",
    "            print(\"人名句子提取处理时间: {:4f}\".format(time_point_3 - time_point_2))\n",
    "\n",
    "    #postagger.release()  # 释放模型\n",
    "    #recognizer.release()  # 释放模型\n",
    "    #parser.release()  # 释放模型\n",
    "    #segmentor.release()  # 释放模型\n",
    "    return news_list"
   ]
  },
  {
   "cell_type": "markdown",
   "metadata": {
    "heading_collapsed": true
   },
   "source": [
    "### 测试提取效果，用以改进提取算法"
   ]
  },
  {
   "cell_type": "code",
   "execution_count": 35,
   "metadata": {
    "hidden": true
   },
   "outputs": [],
   "source": [
    "import random\n",
    "import re\n",
    "import os"
   ]
  },
  {
   "cell_type": "code",
   "execution_count": 32,
   "metadata": {
    "code_folding": [
     0
    ],
    "hidden": true
   },
   "outputs": [
    {
     "name": "stdout",
     "output_type": "stream",
     "text": [
      "Wall time: 4 ms\n"
     ]
    }
   ],
   "source": [
    "def get_relatedwords():\n",
    "    path  = 'E:/MYGIT/Project/NLP-Project-1/related_words'\n",
    "    path_list = os.listdir(path)\n",
    "    relatedwords_list = []\n",
    "    for i in path_list:\n",
    "        with open(os.path.join(path,i), encoding='utf-8') as f:\n",
    "            line_str= f.readline()\n",
    "            while line_str  != '':\n",
    "                relatedwords_list.append(re.findall(\"'(.*?)'\",line_str)[0])\n",
    "                line_str = f.readline()\n",
    "    relatedwords_list = tuple(relatedwords_list)\n",
    "    return relatedwords_list\n",
    "relatedwords_list = get_relatedwords()"
   ]
  },
  {
   "cell_type": "code",
   "execution_count": 33,
   "metadata": {
    "hidden": true
   },
   "outputs": [
    {
     "name": "stdout",
     "output_type": "stream",
     "text": [
      "Wall time: 4 ms\n"
     ]
    }
   ],
   "source": [
    "%%time\n",
    "relatedwords_list = get_relatedwords()"
   ]
  },
  {
   "cell_type": "code",
   "execution_count": 15,
   "metadata": {
    "hidden": true
   },
   "outputs": [
    {
     "data": {
      "text/plain": [
       "True"
      ]
     },
     "execution_count": 15,
     "metadata": {},
     "output_type": "execute_result"
    }
   ],
   "source": [
    "'询问' in relatedwords_list"
   ]
  },
  {
   "cell_type": "code",
   "execution_count": 36,
   "metadata": {
    "hidden": true
   },
   "outputs": [
    {
     "data": {
      "text/plain": [
       "('告诉', '指出', '表示', '说', '认为', '透露', '介绍', '称', '解释', '坦言')"
      ]
     },
     "execution_count": 36,
     "metadata": {},
     "output_type": "execute_result"
    }
   ],
   "source": [
    "relatedwords_list[:10]"
   ]
  },
  {
   "cell_type": "code",
   "execution_count": 37,
   "metadata": {
    "hidden": true
   },
   "outputs": [],
   "source": [
    "news_path = r'E:/MYGIT/DataSources/THUCNews/news_origin/社会新闻_all.txt'\n",
    "news_list = []\n",
    "with open(news_path, encoding='utf-8') as f:\n",
    "    for i in range(10000):\n",
    "        line_str = f.readline()\n",
    "        if line_str == '': break\n",
    "        if line_str.startswith('视频') or line_str.startswith('调查') or len(line_str)>1500: continue\n",
    "        news_list.append(line_str.strip('\\n'))\n",
    "#news_list[:10]"
   ]
  },
  {
   "cell_type": "code",
   "execution_count": 38,
   "metadata": {
    "hidden": true
   },
   "outputs": [],
   "source": [
    "model_list = list(load_all_model())"
   ]
  },
  {
   "cell_type": "code",
   "execution_count": 29,
   "metadata": {
    "hidden": true
   },
   "outputs": [],
   "source": [
    "release_all_model(model_list)"
   ]
  },
  {
   "cell_type": "code",
   "execution_count": 39,
   "metadata": {
    "hidden": true
   },
   "outputs": [],
   "source": [
    "test = random.choice(news_list)\n",
    "test = test.replace('\\u3000','')\n",
    "test = test.replace('\\\\n','')\n",
    "sentence_list = cut_sentence(test)"
   ]
  },
  {
   "cell_type": "code",
   "execution_count": 40,
   "metadata": {
    "hidden": true
   },
   "outputs": [
    {
     "name": "stdout",
     "output_type": "stream",
     "text": [
      "模型加载时间: 0.000000\n",
      "\n",
      "——————————句子:1 处理过程——————————\n",
      "pyltp模块处理时间: 0.042002\n",
      "\n",
      "——————————句子:2 处理过程——————————\n",
      "pyltp模块处理时间: 0.006000\n",
      "有:相应命名实体,没有:相应说类似操作\n",
      "\n",
      "——————————句子:3 处理过程——————————\n",
      "pyltp模块处理时间: 0.008001\n",
      "\n",
      "——————————句子:4 处理过程——————————\n",
      "pyltp模块处理时间: 0.006000\n",
      "\n",
      "——————————句子:5 处理过程——————————\n",
      "pyltp模块处理时间: 0.004000\n",
      "[(0, 2)]\n",
      "人名句子提取处理时间: 0.001000\n",
      "\n",
      "——————————句子:6 处理过程——————————\n",
      "pyltp模块处理时间: 0.004000\n",
      "[(0, 1)]\n",
      "人名句子提取处理时间: 0.001000\n",
      "\n",
      "——————————句子:7 处理过程——————————\n",
      "pyltp模块处理时间: 0.006001\n",
      "有:相应命名实体,没有:相应说类似操作\n",
      "\n",
      "——————————句子:8 处理过程——————————\n",
      "pyltp模块处理时间: 0.003000\n",
      "\n",
      "——————————句子:9 处理过程——————————\n",
      "pyltp模块处理时间: 0.007001\n",
      "\n",
      "——————————句子:10 处理过程——————————\n",
      "pyltp模块处理时间: 0.002000\n",
      "没有:相应命名实体,没有:相应说类似操作\n",
      "\n",
      "——————————句子:11 处理过程——————————\n",
      "pyltp模块处理时间: 0.005000\n",
      "没有:相应命名实体,有:相应说类似操作\n",
      "\n",
      "——————————句子:12 处理过程——————————\n",
      "pyltp模块处理时间: 0.007000\n",
      "有:相应命名实体,没有:相应说类似操作\n",
      "\n",
      "——————————句子:13 处理过程——————————\n",
      "pyltp模块处理时间: 0.004000\n",
      "有:相应命名实体,没有:相应说类似操作\n",
      "\n",
      "——————————句子:14 处理过程——————————\n",
      "pyltp模块处理时间: 0.006000\n",
      "[(0, 1)]\n",
      "人名句子提取处理时间: 0.000000\n",
      "\n",
      "——————————句子:15 处理过程——————————\n",
      "pyltp模块处理时间: 0.002000\n",
      "有:相应命名实体,没有:相应说类似操作\n",
      "\n",
      "——————————句子:16 处理过程——————————\n",
      "pyltp模块处理时间: 0.005000\n",
      "\n",
      "——————————句子:17 处理过程——————————\n",
      "pyltp模块处理时间: 0.003000\n",
      "有:相应命名实体,没有:相应说类似操作\n",
      "\n",
      "——————————句子:18 处理过程——————————\n",
      "pyltp模块处理时间: 0.002000\n",
      "没有:相应命名实体,没有:相应说类似操作\n",
      "\n",
      "——————————句子:19 处理过程——————————\n",
      "pyltp模块处理时间: 0.006001\n",
      "[(0, 1)]\n",
      "人名句子提取处理时间: 0.000000\n",
      "\n",
      "——————————句子:20 处理过程——————————\n",
      "pyltp模块处理时间: 0.004000\n",
      "有:相应命名实体,没有:相应说类似操作\n",
      "\n",
      "——————————句子:21 处理过程——————————\n",
      "pyltp模块处理时间: 0.008001\n",
      "有:相应命名实体,没有:相应说类似操作\n",
      "\n",
      "——————————句子:22 处理过程——————————\n",
      "pyltp模块处理时间: 0.006000\n",
      "\n",
      "——————————句子:23 处理过程——————————\n",
      "pyltp模块处理时间: 0.002000\n",
      "[(6, 7)]\n",
      "人名句子提取处理时间: 0.000000\n",
      "\n",
      "——————————句子:24 处理过程——————————\n",
      "pyltp模块处理时间: 0.003000\n",
      "没有:相应命名实体,有:相应说类似操作\n",
      "\n",
      "——————————句子:25 处理过程——————————\n",
      "pyltp模块处理时间: 0.004000\n",
      "\n",
      "——————————句子:26 处理过程——————————\n",
      "pyltp模块处理时间: 0.005000\n",
      "\n",
      "——————————句子:27 处理过程——————————\n",
      "pyltp模块处理时间: 0.002000\n",
      "有:相应命名实体,没有:相应说类似操作\n",
      "\n",
      "——————————句子:28 处理过程——————————\n",
      "pyltp模块处理时间: 0.003000\n",
      "\n",
      "——————————句子:29 处理过程——————————\n",
      "pyltp模块处理时间: 0.005000\n",
      "[(4, 7)]\n",
      "人名句子提取处理时间: 0.000000\n",
      "\n",
      "——————————句子:30 处理过程——————————\n",
      "pyltp模块处理时间: 0.004000\n",
      "\n",
      "——————————句子:31 处理过程——————————\n",
      "pyltp模块处理时间: 0.001000\n",
      "有:相应命名实体,没有:相应说类似操作\n"
     ]
    },
    {
     "data": {
      "text/plain": [
       "[['第5句:', '家长', '学生们也明确向他们表示不愿意换班主任'],\n",
       " ['第6句:', '冯先生', '儿子在得知武老师要离开后，甚至还提出要转校'],\n",
       " ['第9句:', '武', '每到周五晚上，直到晚10点钟后，仍会给家长们一一打去电话，嘱咐他们在随后休息的两天里，注意督导孩子。'],\n",
       " ['第14句:', '常先生', '今年1月16日，40位家长都来到学校，向校方请求留下武老师'],\n",
       " ['第19句:', '常先生', '随后他们又两次去找北外附中的彭校长请愿，直至校长出差回京后答复将于昨天约见武老师'],\n",
       " ['第23句:', '家长', '严格管理学生。'],\n",
       " ['第29句:', '彭', '家长们对于武老师的挽留是有道理的，他本人也相信武老师能信守承诺，带好这个班级']]"
      ]
     },
     "execution_count": 40,
     "metadata": {},
     "output_type": "execute_result"
    }
   ],
   "source": [
    "find_opinion_of_someone(test,relatedwords_list,model_list)"
   ]
  },
  {
   "cell_type": "code",
   "execution_count": 56,
   "metadata": {
    "hidden": true
   },
   "outputs": [
    {
     "data": {
      "text/plain": [
       "['老师因体罚学生遭辞退 家长请求校方将其留任本报讯（记者王琼）昨晚5时40分，20位学生家长冒雨将题有“好学校好老师桃李天下，听民意尊事实不负众望”的致谢匾送到了北京外国语大学附属中学（下称北外附中）办公室，以此感谢校方听从家长请愿，同意留下此前打算辞退的班主任武老师。',\n",
       " '“辞退令”引家长集体担忧武老师有着21年教龄，去年刚受聘到该校担任初一（1）班班主任。',\n",
       " '据家长常先生回忆，学校放寒假的第二天，他主动给武老师打电话，询问假期如何督导儿子，却意外得知她被学校辞退了。',\n",
       " '消息很快在家长中不胫而走，由此引发了家长们的集体担忧：“这么好的班主任，怎么能被学校辞退呢？”',\n",
       " '家长们称，学生们也明确向他们表示不愿意换班主任。',\n",
       " '冯先生称，儿子在得知武老师要离开后，甚至还提出要转校。',\n",
       " '家长赞其为“放心班主任”“我孩子上大学了，已经没有负担了，我会全身心地投入到这个班级。”',\n",
       " '武老师在家长会上曾这样承诺，这话让家长赵先生至今难忘。',\n",
       " '在他眼中，武老师认真负责：每到周五晚上，直到晚10点钟后，仍会给家长们一一打去电话，嘱咐他们在随后休息的两天里，注意督导孩子。',\n",
       " '“把孩子交给这样的老师，我们放心!',\n",
       " '”家长常先生强调自己的儿子是个“调皮大王”，偏偏服从武老师的管教。',\n",
       " '更为关键的是，武老师教的这个学期，整个班级学生的学习成绩跃居年级第二，仅次于尖子生集中的“实验班”。',\n",
       " '家长5次到学校请愿武老师教的班级共有42名学生。',\n",
       " '常先生称，今年1月16日，40位家长都来到学校，向校方请求留下武老师。',\n",
       " '“她体罚学生！”',\n",
       " '常先生从该校一位领导处得知，校方开办公会议后，以体罚学生为由决定辞退武老师。',\n",
       " '5天后，家长们再次来到学校请愿，但两次请愿均无进展。',\n",
       " '“2月1日和10日，我们又去找校长。”',\n",
       " '常先生说，随后他们又两次去找北外附中的彭校长请愿，直至校长出差回京后答复将于昨天约见武老师。',\n",
       " '昨天下午1时，20位家长代表冒雨赶到了北外附中，第5次向学校请愿。',\n",
       " '留住武老师家长欢呼昨晚5时许，家长们苦等4个小时后，终于盼到了想要的结果——武老师留下了，这让家长们情不自禁地鼓起掌来欢呼。',\n",
       " '武老师也解释了所谓的“体罚事件”，班中有个学生传了一个纸条，内容不堪入目，气得她忍不住拍了这个学生的后背。',\n",
       " '当时觉得此举是应学生家长要求，严格管理学生。',\n",
       " '根本就没有想到事隔半个学期后，竟会因为此事被辞退。',\n",
       " '校方请武老师提供书面说明昨晚5时40分，家长们将一块特地赶制出来的致谢匾送到了该校办公室。',\n",
       " '彭校长解释称，个别学生不服从管教，直接影响到整个班级，班主任武老师在管理时，也应该注重方式方法。',\n",
       " '尽管她当时打这个学生完全是出于好意。',\n",
       " '学校还是按照校规要求她做出了书面说明，并保证以后绝不会再打学生。',\n",
       " '彭校长表示，他能充分理解到家长们对于武老师的挽留是有道理的，他本人也相信武老师能信守承诺，带好这个班级。',\n",
       " '学校开了4次办公会议，听取老教师和家长们的意见后，最终作出了留任决定。',\n",
       " 'J010']"
      ]
     },
     "execution_count": 56,
     "metadata": {},
     "output_type": "execute_result"
    }
   ],
   "source": [
    "sentence_list"
   ]
  },
  {
   "cell_type": "code",
   "execution_count": 41,
   "metadata": {
    "hidden": true
   },
   "outputs": [
    {
     "name": "stdout",
     "output_type": "stream",
     "text": [
      "第1句: 老师因体罚学生遭辞退 家长请求校方将其留任本报讯（记者王琼）昨晚5时40分，20位学生家长冒雨将题有“好学校好老师桃李天下，听民意尊事实不负众望”的致谢匾送到了北京外国语大学附属中学（下称北外附中）办公室，以此感谢校方听从家长请愿，同意留下此前打算辞退的班主任武老师。\n",
      "第2句: “辞退令”引家长集体担忧武老师有着21年教龄，去年刚受聘到该校担任初一（1）班班主任。\n",
      "第3句: 据家长常先生回忆，学校放寒假的第二天，他主动给武老师打电话，询问假期如何督导儿子，却意外得知她被学校辞退了。\n",
      "第4句: 消息很快在家长中不胫而走，由此引发了家长们的集体担忧：“这么好的班主任，怎么能被学校辞退呢？”\n",
      "第5句: 家长们称，学生们也明确向他们表示不愿意换班主任。\n",
      "第6句: 冯先生称，儿子在得知武老师要离开后，甚至还提出要转校。\n",
      "第7句: 家长赞其为“放心班主任”“我孩子上大学了，已经没有负担了，我会全身心地投入到这个班级。”\n",
      "第8句: 武老师在家长会上曾这样承诺，这话让家长赵先生至今难忘。\n",
      "第9句: 在他眼中，武老师认真负责：每到周五晚上，直到晚10点钟后，仍会给家长们一一打去电话，嘱咐他们在随后休息的两天里，注意督导孩子。\n",
      "第10句: “把孩子交给这样的老师，我们放心!\n",
      "第11句: ”家长常先生强调自己的儿子是个“调皮大王”，偏偏服从武老师的管教。\n",
      "第12句: 更为关键的是，武老师教的这个学期，整个班级学生的学习成绩跃居年级第二，仅次于尖子生集中的“实验班”。\n",
      "第13句: 家长5次到学校请愿武老师教的班级共有42名学生。\n",
      "第14句: 常先生称，今年1月16日，40位家长都来到学校，向校方请求留下武老师。\n",
      "第15句: “她体罚学生！”\n",
      "第16句: 常先生从该校一位领导处得知，校方开办公会议后，以体罚学生为由决定辞退武老师。\n",
      "第17句: 5天后，家长们再次来到学校请愿，但两次请愿均无进展。\n",
      "第18句: “2月1日和10日，我们又去找校长。”\n",
      "第19句: 常先生说，随后他们又两次去找北外附中的彭校长请愿，直至校长出差回京后答复将于昨天约见武老师。\n",
      "第20句: 昨天下午1时，20位家长代表冒雨赶到了北外附中，第5次向学校请愿。\n",
      "第21句: 留住武老师家长欢呼昨晚5时许，家长们苦等4个小时后，终于盼到了想要的结果——武老师留下了，这让家长们情不自禁地鼓起掌来欢呼。\n",
      "第22句: 武老师也解释了所谓的“体罚事件”，班中有个学生传了一个纸条，内容不堪入目，气得她忍不住拍了这个学生的后背。\n",
      "第23句: 当时觉得此举是应学生家长要求，严格管理学生。\n",
      "第24句: 根本就没有想到事隔半个学期后，竟会因为此事被辞退。\n",
      "第25句: 校方请武老师提供书面说明昨晚5时40分，家长们将一块特地赶制出来的致谢匾送到了该校办公室。\n",
      "第26句: 彭校长解释称，个别学生不服从管教，直接影响到整个班级，班主任武老师在管理时，也应该注重方式方法。\n",
      "第27句: 尽管她当时打这个学生完全是出于好意。\n",
      "第28句: 学校还是按照校规要求她做出了书面说明，并保证以后绝不会再打学生。\n",
      "第29句: 彭校长表示，他能充分理解到家长们对于武老师的挽留是有道理的，他本人也相信武老师能信守承诺，带好这个班级。\n",
      "第30句: 学校开了4次办公会议，听取老教师和家长们的意见后，最终作出了留任决定。\n",
      "第31句: J010\n"
     ]
    }
   ],
   "source": [
    "for _a, i in enumerate(sentence_list):\n",
    "    print('第{}句: {}'.format(_a+1, i))"
   ]
  },
  {
   "cell_type": "code",
   "execution_count": 61,
   "metadata": {
    "hidden": true
   },
   "outputs": [],
   "source": [
    "sentence = '我送她一粟花'\n",
    "word_list = cut_word(sentence)\n",
    "pos_list = pos_label(word_list)\n",
    "ner_list = ner_label(word_list,pos_list)\n",
    "den_parsing_list = dependency_parsing(word_list,pos_list)\n",
    "dp_list = [str(arc.head) + ':'+ arc.relation for arc in den_parsing_list]"
   ]
  },
  {
   "cell_type": "code",
   "execution_count": 50,
   "metadata": {
    "hidden": true
   },
   "outputs": [
    {
     "data": {
      "image/png": "[encoded data removed]",
      "text/plain": [
       "<Figure size 720x720 with 1 Axes>"
      ]
     },
     "metadata": {},
     "output_type": "display_data"
    }
   ],
   "source": [
    "relation_dict = search_find_dict([find_head(den_parsing_list)],den_parsing_list, word_list)\n",
    "start = word_list[find_head(den_parsing_list)]\n",
    "plottree.createPlot(start, relation_dict)"
   ]
  },
  {
   "cell_type": "code",
   "execution_count": 62,
   "metadata": {
    "hidden": true
   },
   "outputs": [],
   "source": [
    "sentence_list = cut_sentence(test)\n",
    "sentence = sentence_list[28]\n",
    "word_list = cut_word(sentence)\n",
    "pos_list = pos_label(word_list)\n",
    "ner_list = ner_label(word_list,pos_list)\n",
    "den_parsing_list = dependency_parsing(word_list,pos_list)\n",
    "dp_list = [str(arc.head) + ':'+ arc.relation for arc in den_parsing_list]"
   ]
  },
  {
   "cell_type": "code",
   "execution_count": 63,
   "metadata": {
    "hidden": true
   },
   "outputs": [
    {
     "data": {
      "text/plain": [
       "'彭校长'"
      ]
     },
     "execution_count": 63,
     "metadata": {},
     "output_type": "execute_result"
    }
   ],
   "source": [
    "get_name('校长',word_list,[i.relation for i in den_parsing_list], ner_list)"
   ]
  },
  {
   "cell_type": "code",
   "execution_count": 55,
   "metadata": {
    "hidden": true
   },
   "outputs": [
    {
     "data": {
      "text/plain": [
       "'他能充分理解到家长们对于武老师的挽留是有道理的，他本人也相信武老师能信守承诺，带好这个班级。'"
      ]
     },
     "execution_count": 55,
     "metadata": {},
     "output_type": "execute_result"
    }
   ],
   "source": [
    "get_saying(word_list,[i.relation for i in den_parsing_list],[i.head for i in den_parsing_list],3)"
   ]
  },
  {
   "cell_type": "code",
   "execution_count": 43,
   "metadata": {
    "hidden": true
   },
   "outputs": [],
   "source": [
    "from plottree import plottree"
   ]
  },
  {
   "cell_type": "code",
   "execution_count": 47,
   "metadata": {
    "hidden": true
   },
   "outputs": [
    {
     "name": "stdout",
     "output_type": "stream",
     "text": [
      "彭校长表示，他能充分理解到家长们对于武老师的挽留是有道理的，他本人也相信武老师能信守承诺，带好这个班级。\n"
     ]
    }
   ],
   "source": [
    "print(sentence)"
   ]
  },
  {
   "cell_type": "code",
   "execution_count": 48,
   "metadata": {
    "hidden": true
   },
   "outputs": [
    {
     "name": "stdout",
     "output_type": "stream",
     "text": [
      "1\t|2\t|3\t|4\t|5\t|6\t|7\t|8\t|9\t|10\t|11\t|12\t|13\t|14\t|\n",
      "彭\t|校长\t|表示\t|，\t|他\t|能\t|充分\t|理解\t|到\t|家长\t|们\t|对于\t|武\t|老师\t|\n",
      "2:ATT\t|3:SBV\t|0:HED\t|3:WP\t|8:SBV\t|8:ADV\t|8:ADV\t|3:VOB\t|8:CMP\t|17:SBV\t|10:RAD\t|17:ADV\t|14:ATT\t|12:POB\t| \n",
      "\n",
      "15\t|16\t|17\t|18\t|19\t|20\t|21\t|22\t|23\t|24\t|25\t|26\t|27\t|28\t|\n",
      "的\t|挽留\t|是\t|有\t|道理\t|的\t|，\t|他\t|本人\t|也\t|相信\t|武\t|老师\t|能\t|\n",
      "14:RAD\t|12:POB\t|8:VOB\t|17:VOB\t|18:VOB\t|18:RAD\t|17:WP\t|23:ATT\t|25:SBV\t|25:ADV\t|17:COO\t|27:ATT\t|29:SBV\t|29:ADV\t| \n",
      "\n",
      "29\t|30\t|31\t|32\t|33\t|34\t|35\t|36\t|\n",
      "信守\t|承诺\t|，\t|带\t|好\t|这个\t|班级\t|。\t|\n",
      "25:VOB\t|29:VOB\t|29:WP\t|29:COO\t|32:CMP\t|35:ATT\t|32:VOB\t|3:WP\t| \n",
      "\n",
      "1\t|2\t|3\t|4\t|5\t|6\t|7\t|8\t|9\t|10\t|11\t|12\t|13\t|14\t|\n",
      "彭\t|校长\t|表示\t|，\t|他\t|能\t|充分\t|理解\t|到\t|家长\t|们\t|对于\t|武\t|老师\t|\n",
      "nh\t|n\t|v\t|wp\t|nh\t|v\t|a\t|v\t|v\t|nh\t|k\t|p\t|nh\t|n\t| \n",
      "\n",
      "15\t|16\t|17\t|18\t|19\t|20\t|21\t|22\t|23\t|24\t|25\t|26\t|27\t|28\t|\n",
      "的\t|挽留\t|是\t|有\t|道理\t|的\t|，\t|他\t|本人\t|也\t|相信\t|武\t|老师\t|能\t|\n",
      "u\t|v\t|v\t|v\t|n\t|u\t|wp\t|nh\t|r\t|d\t|v\t|nh\t|n\t|v\t| \n",
      "\n",
      "29\t|30\t|31\t|32\t|33\t|34\t|35\t|36\t|\n",
      "信守\t|承诺\t|，\t|带\t|好\t|这个\t|班级\t|。\t|\n",
      "v\t|v\t|wp\t|v\t|a\t|r\t|n\t|wp\t| \n",
      "\n",
      "1\t|2\t|3\t|4\t|5\t|6\t|7\t|8\t|9\t|10\t|11\t|12\t|13\t|14\t|\n",
      "彭\t|校长\t|表示\t|，\t|他\t|能\t|充分\t|理解\t|到\t|家长\t|们\t|对于\t|武\t|老师\t|\n",
      "S-Nh\t|O\t|O\t|O\t|S-Nh\t|O\t|O\t|O\t|O\t|S-Nh\t|O\t|O\t|S-Nh\t|O\t| \n",
      "\n",
      "15\t|16\t|17\t|18\t|19\t|20\t|21\t|22\t|23\t|24\t|25\t|26\t|27\t|28\t|\n",
      "的\t|挽留\t|是\t|有\t|道理\t|的\t|，\t|他\t|本人\t|也\t|相信\t|武\t|老师\t|能\t|\n",
      "O\t|O\t|O\t|O\t|O\t|O\t|O\t|S-Nh\t|O\t|O\t|O\t|S-Nh\t|O\t|O\t| \n",
      "\n",
      "29\t|30\t|31\t|32\t|33\t|34\t|35\t|36\t|\n",
      "信守\t|承诺\t|，\t|带\t|好\t|这个\t|班级\t|。\t|\n",
      "O\t|O\t|O\t|O\t|O\t|O\t|O\t|O\t| \n",
      "\n"
     ]
    }
   ],
   "source": [
    "pretty_print(word_list,dp_list)\n",
    "pretty_print(word_list,pos_list)  \n",
    "pretty_print(word_list,ner_list)"
   ]
  },
  {
   "cell_type": "code",
   "execution_count": 58,
   "metadata": {
    "hidden": true,
    "scrolled": false
   },
   "outputs": [
    {
     "data": {
      "image/png": "[encoded data removed]",
      "text/plain": [
       "<Figure size 720x720 with 1 Axes>"
      ]
     },
     "metadata": {},
     "output_type": "display_data"
    }
   ],
   "source": [
    "relation_dict = search_find_dict([find_head(den_parsing_list)],den_parsing_list, word_list)\n",
    "start = word_list[find_head(den_parsing_list)]\n",
    "plottree.createPlot(start, relation_dict)"
   ]
  },
  {
   "cell_type": "code",
   "execution_count": 59,
   "metadata": {
    "hidden": true
   },
   "outputs": [],
   "source": [
    "# 输入主语第一个词语、谓语、词语数组、词性数组，查找完整主语\n",
    "def get_name( name, words, property, ne):\n",
    "    index = words.index(name)\n",
    "    cut_property = property[index + 1:] #截取到name后第一个词语\n",
    "    pre=words[:index]#前半部分\n",
    "    pos=words[index+1:]#后半部分\n",
    "    #向前拼接主语的定语\n",
    "    while pre:\n",
    "        w = pre.pop(-1)\n",
    "        w_index = words.index(w)\n",
    "\n",
    "        if property[w_index] == 'ADV': continue\n",
    "        if property[w_index] in ['WP', 'ATT', 'SVB'] and (w not in ['，','。','、','）','（']):\n",
    "            name = w + name\n",
    "        else:\n",
    "            pre = False\n",
    "\n",
    "    while pos:\n",
    "        w = pos.pop(0)\n",
    "        p = cut_property.pop(0)\n",
    "        if p in ['WP', 'LAD', 'COO', 'RAD'] and (w not in ['，', '。', '、', '）', '（']):\n",
    "            name = name + w # 向后拼接\n",
    "        else: #中断拼接直接返回\n",
    "            return name\n",
    "    return name\n",
    "\n",
    "# 获取谓语之后的言论\n",
    "def get_saying(sentence, proper, heads, pos):\n",
    "    # word = sentence.pop(0) #谓语\n",
    "    if '：' in sentence:\n",
    "        return ''.join(sentence[sentence.index('：')+1:])\n",
    "    while pos < len(sentence):\n",
    "        w = sentence[pos]\n",
    "        p = proper[pos]\n",
    "        h = heads[pos]\n",
    "        # 谓语尚未结束\n",
    "        if p in ['DBL', 'CMP', 'RAD']:\n",
    "            pos += 1\n",
    "            continue\n",
    "        # 定语\n",
    "        if p == 'ATT' and proper[h-1] != 'SBV':\n",
    "            pos = h\n",
    "            continue\n",
    "        # 宾语\n",
    "        if p == 'VOB':\n",
    "            pos += 1\n",
    "            continue\n",
    "        # if p in ['ATT', 'VOB', 'DBL', 'CMP']:  # 遇到此性质代表谓语未结束，continue\n",
    "        #    continue\n",
    "        else:\n",
    "            if w == '，':\n",
    "                return ''.join(sentence[pos+1:])\n",
    "            else:\n",
    "                return ''.join(sentence[pos:])"
   ]
  },
  {
   "cell_type": "code",
   "execution_count": 206,
   "metadata": {
    "hidden": true
   },
   "outputs": [],
   "source": [
    "path = r'E:/MYGIT/Project/ltp_data/cut_external_dict/cut_external_dict'"
   ]
  },
  {
   "cell_type": "code",
   "execution_count": 177,
   "metadata": {
    "hidden": true
   },
   "outputs": [],
   "source": [
    "import os\n",
    "with open(path, encoding='utf-8') as f: \n",
    "    with open('pos_external_dict','w', encoding= 'utf-8') as output:\n",
    "        line_str = f.readline()\n",
    "        while line_str!= '':\n",
    "            name = line_str.strip('\\n')\n",
    "            output.write(name + ' nh'+ '\\n')\n",
    "            line_str = f.readline()"
   ]
  },
  {
   "cell_type": "code",
   "execution_count": null,
   "metadata": {
    "hidden": true
   },
   "outputs": [],
   "source": []
  },
  {
   "cell_type": "markdown",
   "metadata": {},
   "source": [
    "## 确定言论结束"
   ]
  },
  {
   "cell_type": "markdown",
   "metadata": {},
   "source": [
    "Sentence Embedding-基础词向量的句子向量化处理"
   ]
  },
  {
   "attachments": {
    "%E5%9B%BE%E7%89%87.png": {
     "image/png": "[encoded data removed]"
    }
   },
   "cell_type": "markdown",
   "metadata": {},
   "source": [
    "![%E5%9B%BE%E7%89%87.png](attachment:%E5%9B%BE%E7%89%87.png)"
   ]
  },
  {
   "cell_type": "code",
   "execution_count": 1,
   "metadata": {},
   "outputs": [
    {
     "name": "stderr",
     "output_type": "stream",
     "text": [
      "D:\\Design Software\\Anaconda\\envs\\py36\\lib\\site-packages\\gensim\\utils.py:1197: UserWarning: detected Windows; aliasing chunkize to chunkize_serial\n",
      "  warnings.warn(\"detected Windows; aliasing chunkize to chunkize_serial\")\n"
     ]
    }
   ],
   "source": [
    "from gensim.models import word2vec\n",
    "from gensim.models import Word2Vec\n",
    "from gensim.models.word2vec import LineSentence\n",
    "from gensim.models import KeyedVectors\n",
    "from gensim.test.utils import datapath\n",
    "from collections import defaultdict\n",
    "import logging"
   ]
  },
  {
   "cell_type": "code",
   "execution_count": 2,
   "metadata": {},
   "outputs": [
    {
     "name": "stderr",
     "output_type": "stream",
     "text": [
      "D:\\Design Software\\Anaconda\\envs\\py36\\lib\\site-packages\\smart_open\\smart_open_lib.py:398: UserWarning: This function is deprecated, use smart_open.open instead. See the migration notes for details: https://github.com/RaRe-Technologies/smart_open/blob/master/README.rst#migrating-to-the-new-open-function\n",
      "  'See the migration notes for details: %s' % _MIGRATION_NOTES_URL\n"
     ]
    }
   ],
   "source": [
    "fname = r\"E:/MYGIT/model/wiki_stopwords/wiki_word2vec.kv\"\n",
    "#model_wv.save(fname)\n",
    "model_wv = KeyedVectors.load(fname, mmap='r')"
   ]
  },
  {
   "cell_type": "code",
   "execution_count": 4,
   "metadata": {},
   "outputs": [
    {
     "data": {
      "text/plain": [
       "numpy.memmap"
      ]
     },
     "execution_count": 4,
     "metadata": {},
     "output_type": "execute_result"
    }
   ],
   "source": [
    "type(model_wv['好看'])"
   ]
  },
  {
   "cell_type": "code",
   "execution_count": 7,
   "metadata": {},
   "outputs": [
    {
     "data": {
      "text/plain": [
       "500"
      ]
     },
     "execution_count": 7,
     "metadata": {},
     "output_type": "execute_result"
    }
   ],
   "source": [
    "model_wv.vector_size"
   ]
  },
  {
   "cell_type": "code",
   "execution_count": null,
   "metadata": {},
   "outputs": [],
   "source": [
    "def get_sentences_vec(model, sent_list, word_frequence):\n",
    "    # 词向量加权部分\n",
    "    a = 0.001\n",
    "    row = model.wv.vector_size\n",
    "    col = len(sent_list)\n",
    "    sent_mat = np.zeros((row, col))\n",
    "    for i, sent in enumerate(sent_list):\n",
    "        # new_sent = rm_spec(sent)\n",
    "        new_sent = sent\n",
    "        if not new_sent: continue\n",
    "        sent_vec = np.zeros(row)\n",
    "        for word in new_sent:\n",
    "            pw = get_wd_freq(word)\n",
    "            w = a / (a + pw)\n",
    "            try:\n",
    "                vec = np.array(model[word])\n",
    "                sent_vec += w * vec\n",
    "            except:\n",
    "                pass\n",
    "        sent_mat[:, i] += sent_vec\n",
    "        sent_mat[:, i] /= len(new_sent)\n",
    "\n",
    "    # PCA处理\n",
    "    sent_mat = np.mat(sent_mat)\n",
    "    u, s, vh = np.linalg.svd(sent_mat)\n",
    "    sent_mat = sent_mat - u * u.T * sent_mat\n",
    "    return sent_mat"
   ]
  },
  {
   "cell_type": "code",
   "execution_count": 9,
   "metadata": {},
   "outputs": [],
   "source": [
    "import numpy as np\n",
    ">>> data = np.mat([[1,2,3],[4,5,6]])\n",
    ">>> U,sigma,VT = np.linalg.svd(data)"
   ]
  },
  {
   "cell_type": "code",
   "execution_count": 11,
   "metadata": {},
   "outputs": [],
   "source": [
    "sss = data - U*U.T*data"
   ]
  },
  {
   "cell_type": "code",
   "execution_count": 14,
   "metadata": {},
   "outputs": [
    {
     "data": {
      "text/plain": [
       "array([0., 0., 0., 0., 0., 0., 0., 0., 0., 0.])"
      ]
     },
     "execution_count": 14,
     "metadata": {},
     "output_type": "execute_result"
    }
   ],
   "source": [
    "sent_vec = np.zeros(10)\n",
    "sent_vec.T"
   ]
  },
  {
   "cell_type": "markdown",
   "metadata": {},
   "source": [
    "## 得到人物以及其对应的观点"
   ]
  },
  {
   "cell_type": "markdown",
   "metadata": {},
   "source": [
    "## 使用Flask等web框架展示项目成果"
   ]
  }
 ],
 "metadata": {
  "kernelspec": {
   "display_name": "Python 3",
   "language": "python",
   "name": "python3"
  },
  "language_info": {
   "codemirror_mode": {
    "name": "ipython",
    "version": 3
   },
   "file_extension": ".py",
   "mimetype": "text/x-python",
   "name": "python",
   "nbconvert_exporter": "python",
   "pygments_lexer": "ipython3",
   "version": "3.6.9"
  },
  "toc": {
   "base_numbering": 1,
   "nav_menu": {},
   "number_sections": true,
   "sideBar": true,
   "skip_h1_title": false,
   "title_cell": "Table of Contents",
   "title_sidebar": "Contents",
   "toc_cell": false,
   "toc_position": {
    "height": "calc(100% - 180px)",
    "left": "10px",
    "top": "150px",
    "width": "273.2px"
   },
   "toc_section_display": true,
   "toc_window_display": false
  }
 },
 "nbformat": 4,
 "nbformat_minor": 2
}
